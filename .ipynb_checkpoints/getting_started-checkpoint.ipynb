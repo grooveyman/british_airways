{
 "cells": [
  {
   "cell_type": "markdown",
   "metadata": {},
   "source": [
    "# Task 1\n",
    "\n",
    "---\n",
    "\n",
    "## Web scraping and analysis\n",
    "\n",
    "This Jupyter notebook includes some code to get you started with web scraping. We will use a package called `BeautifulSoup` to collect the data from the web. Once you've collected your data and saved it into a local `.csv` file you should start with your analysis.\n",
    "\n",
    "### Scraping data from Skytrax\n",
    "\n",
    "If you visit [https://www.airlinequality.com] you can see that there is a lot of data there. For this task, we are only interested in reviews related to British Airways and the Airline itself.\n",
    "\n",
    "If you navigate to this link: [https://www.airlinequality.com/airline-reviews/british-airways] you will see this data. Now, we can use `Python` and `BeautifulSoup` to collect all the links to the reviews and then to collect the text data on each of the individual review links."
   ]
  },
  {
   "cell_type": "markdown",
   "metadata": {},
   "source": [
    "## DATA GATHERING"
   ]
  },
  {
   "cell_type": "code",
   "execution_count": 312,
   "metadata": {},
   "outputs": [],
   "source": [
    "import requests\n",
    "from bs4 import BeautifulSoup\n",
    "import pandas as pd\n",
    "import numpy as np\n",
    "import matplotlib.pyplot as plt"
   ]
  },
  {
   "cell_type": "code",
   "execution_count": null,
   "metadata": {},
   "outputs": [],
   "source": []
  },
  {
   "cell_type": "code",
   "execution_count": 51,
   "metadata": {},
   "outputs": [
    {
     "name": "stdout",
     "output_type": "stream",
     "text": [
      "Scraping page 1\n",
      "   ---> 100 total reviews\n",
      "Scraping page 2\n",
      "   ---> 200 total reviews\n",
      "Scraping page 3\n",
      "   ---> 300 total reviews\n",
      "Scraping page 4\n",
      "   ---> 400 total reviews\n",
      "Scraping page 5\n",
      "   ---> 500 total reviews\n",
      "Scraping page 6\n",
      "   ---> 600 total reviews\n",
      "Scraping page 7\n",
      "   ---> 700 total reviews\n",
      "Scraping page 8\n",
      "   ---> 800 total reviews\n",
      "Scraping page 9\n",
      "   ---> 900 total reviews\n",
      "Scraping page 10\n",
      "   ---> 1000 total reviews\n",
      "Scraping page 11\n",
      "   ---> 1100 total reviews\n",
      "Scraping page 12\n",
      "   ---> 1200 total reviews\n",
      "Scraping page 13\n",
      "   ---> 1300 total reviews\n",
      "Scraping page 14\n",
      "   ---> 1400 total reviews\n",
      "Scraping page 15\n",
      "   ---> 1500 total reviews\n",
      "Scraping page 16\n",
      "   ---> 1600 total reviews\n",
      "Scraping page 17\n",
      "   ---> 1700 total reviews\n",
      "Scraping page 18\n",
      "   ---> 1800 total reviews\n",
      "Scraping page 19\n",
      "   ---> 1900 total reviews\n",
      "Scraping page 20\n",
      "   ---> 2000 total reviews\n",
      "Scraping page 21\n",
      "   ---> 2100 total reviews\n",
      "Scraping page 22\n",
      "   ---> 2200 total reviews\n",
      "Scraping page 23\n",
      "   ---> 2300 total reviews\n",
      "Scraping page 24\n",
      "   ---> 2400 total reviews\n",
      "Scraping page 25\n",
      "   ---> 2500 total reviews\n",
      "Scraping page 26\n",
      "   ---> 2600 total reviews\n",
      "Scraping page 27\n",
      "   ---> 2700 total reviews\n",
      "Scraping page 28\n",
      "   ---> 2800 total reviews\n",
      "Scraping page 29\n",
      "   ---> 2900 total reviews\n",
      "Scraping page 30\n",
      "   ---> 3000 total reviews\n",
      "Scraping page 31\n",
      "   ---> 3100 total reviews\n",
      "Scraping page 32\n",
      "   ---> 3200 total reviews\n",
      "Scraping page 33\n",
      "   ---> 3300 total reviews\n",
      "Scraping page 34\n",
      "   ---> 3400 total reviews\n",
      "Scraping page 35\n",
      "   ---> 3500 total reviews\n",
      "Scraping page 36\n",
      "   ---> 3535 total reviews\n",
      "Scraping page 37\n",
      "   ---> 3535 total reviews\n"
     ]
    }
   ],
   "source": [
    "base_url = \"https://www.airlinequality.com/airline-reviews/british-airways\"\n",
    "pages = 37\n",
    "page_size = 100\n",
    "\n",
    "reviews = []\n",
    "\n",
    "#declare dictionary\n",
    "data_dict = {}\n",
    "# for i in range(1, pages + 1):\n",
    "review_count = 1\n",
    "for i in range(1, pages + 1):\n",
    "\n",
    "    print(f\"Scraping page {i}\")\n",
    "\n",
    "    # Create URL to collect links from paginated data\n",
    "    url = f\"{base_url}/page/{i}/?sortby=post_date%3ADesc&pagesize={page_size}\"\n",
    "\n",
    "    # Collect HTML data from this page\n",
    "    response = requests.get(url)\n",
    "\n",
    "    # Parse content\n",
    "    content = response.content\n",
    "    parsed_content = BeautifulSoup(content, 'html.parser')\n",
    "\n",
    "    for para in parsed_content.find_all(\"article\",{\"itemprop\":\"review\"}):\n",
    "        new_dict = {}\n",
    "        review_text = para.find_all(\"div\", {\"class\": \"text_content\"})\n",
    "        new_dict['reviews'] = review_text[0].get_text() # store reviews in dictionary\n",
    "\n",
    "        table = para.select('table.review-ratings')\n",
    "        length_rating = len(table[0].find_all(\"td\",{\"class\":\"review-rating-header\"}))\n",
    "        ratings = []\n",
    "        count = 0\n",
    "        stars_label_names = []\n",
    "        for j in range(0,length_rating*2,2):\n",
    "            type_rate = table[0].find_all(\"td\")[j].attrs['class'][1]\n",
    "            columns = table[0].find_all(\"td\")[j].findNext('td').get_text()\n",
    "            \n",
    "            if(columns == '12345'):\n",
    "                stars_label = table[0].find_all(\"td\")[j].get_text()\n",
    "                stars_label_names.append(stars_label)\n",
    "                count+=1\n",
    "            else:\n",
    "                new_dict[type_rate] = columns\n",
    "    \n",
    "        stars_count = 0\n",
    "        stars_index = 0\n",
    "        \n",
    "        for k in range(0,count*5,1):\n",
    "            if(table[0].find_all(\"span\")[k].get_text() == 'N/A'):\n",
    "                continue\n",
    "            else:\n",
    "                stars = table[0].find_all(\"span\")[k].attrs['class']\n",
    "                if(len(stars) == 2):\n",
    "                    stars_count+=1\n",
    "                if((k+1)%5 == 0):\n",
    "    #                 #assign stars count\n",
    "                    new_dict[stars_label_names[stars_index]] = stars_count\n",
    "                    stars_index+=1\n",
    "                    stars_count = 0\n",
    "        data_dict[review_count] = new_dict\n",
    "        review_count+=1\n",
    "\n",
    "    print(f\"   ---> {len(data_dict)} total reviews\")"
   ]
  },
  {
   "cell_type": "code",
   "execution_count": null,
   "metadata": {},
   "outputs": [],
   "source": []
  },
  {
   "cell_type": "code",
   "execution_count": 69,
   "metadata": {},
   "outputs": [
    {
     "data": {
      "text/html": [
       "<div>\n",
       "<style scoped>\n",
       "    .dataframe tbody tr th:only-of-type {\n",
       "        vertical-align: middle;\n",
       "    }\n",
       "\n",
       "    .dataframe tbody tr th {\n",
       "        vertical-align: top;\n",
       "    }\n",
       "\n",
       "    .dataframe thead th {\n",
       "        text-align: right;\n",
       "    }\n",
       "</style>\n",
       "<table border=\"1\" class=\"dataframe\">\n",
       "  <thead>\n",
       "    <tr style=\"text-align: right;\">\n",
       "      <th></th>\n",
       "      <th>reviews</th>\n",
       "      <th>aircraft</th>\n",
       "      <th>type_of_traveller</th>\n",
       "      <th>cabin_flown</th>\n",
       "      <th>route</th>\n",
       "      <th>date_flown</th>\n",
       "      <th>recommended</th>\n",
       "      <th>Seat Comfort</th>\n",
       "      <th>Cabin Staff Service</th>\n",
       "      <th>Food &amp; Beverages</th>\n",
       "      <th>Inflight Entertainment</th>\n",
       "      <th>Ground Service</th>\n",
       "      <th>Wifi &amp; Connectivity</th>\n",
       "      <th>Value For Money</th>\n",
       "      <th>inflight_entertainment</th>\n",
       "      <th>food_and_beverages</th>\n",
       "      <th>value_for_money</th>\n",
       "    </tr>\n",
       "  </thead>\n",
       "  <tbody>\n",
       "    <tr>\n",
       "      <th>1</th>\n",
       "      <td>Not Verified |  Food was lousy. Who ever is pl...</td>\n",
       "      <td>Boeing 777</td>\n",
       "      <td>Couple Leisure</td>\n",
       "      <td>Premium Economy</td>\n",
       "      <td>Seattle to Zagreb via London</td>\n",
       "      <td>April 2023</td>\n",
       "      <td>no</td>\n",
       "      <td>3</td>\n",
       "      <td>2</td>\n",
       "      <td>1</td>\n",
       "      <td>1</td>\n",
       "      <td>3</td>\n",
       "      <td>1</td>\n",
       "      <td>2</td>\n",
       "      <td>NaN</td>\n",
       "      <td>NaN</td>\n",
       "      <td>NaN</td>\n",
       "    </tr>\n",
       "    <tr>\n",
       "      <th>2</th>\n",
       "      <td>✅ Trip Verified | Had the worst experience. Th...</td>\n",
       "      <td>Boeing 777</td>\n",
       "      <td>Family Leisure</td>\n",
       "      <td>Premium Economy</td>\n",
       "      <td>Bangalore to Toronto via London,</td>\n",
       "      <td>April 2023</td>\n",
       "      <td>no</td>\n",
       "      <td>2</td>\n",
       "      <td>1</td>\n",
       "      <td>2</td>\n",
       "      <td>3</td>\n",
       "      <td>1</td>\n",
       "      <td>NaN</td>\n",
       "      <td>1</td>\n",
       "      <td>NaN</td>\n",
       "      <td>NaN</td>\n",
       "      <td>NaN</td>\n",
       "    </tr>\n",
       "    <tr>\n",
       "      <th>3</th>\n",
       "      <td>✅ Trip Verified |  The ground staff were not h...</td>\n",
       "      <td>Dreamliner</td>\n",
       "      <td>Family Leisure</td>\n",
       "      <td>Economy Class</td>\n",
       "      <td>London to Denver</td>\n",
       "      <td>February 2023</td>\n",
       "      <td>no</td>\n",
       "      <td>2</td>\n",
       "      <td>1</td>\n",
       "      <td>1</td>\n",
       "      <td>3</td>\n",
       "      <td>1</td>\n",
       "      <td>1</td>\n",
       "      <td>2</td>\n",
       "      <td>NaN</td>\n",
       "      <td>NaN</td>\n",
       "      <td>NaN</td>\n",
       "    </tr>\n",
       "    <tr>\n",
       "      <th>4</th>\n",
       "      <td>✅ Trip Verified |  Second time BA Premium Econ...</td>\n",
       "      <td>A350</td>\n",
       "      <td>Solo Leisure</td>\n",
       "      <td>Premium Economy</td>\n",
       "      <td>London to Hong Kong</td>\n",
       "      <td>April 2023</td>\n",
       "      <td>yes</td>\n",
       "      <td>4</td>\n",
       "      <td>5</td>\n",
       "      <td>4</td>\n",
       "      <td>3</td>\n",
       "      <td>4</td>\n",
       "      <td>NaN</td>\n",
       "      <td>4</td>\n",
       "      <td>NaN</td>\n",
       "      <td>NaN</td>\n",
       "      <td>NaN</td>\n",
       "    </tr>\n",
       "    <tr>\n",
       "      <th>5</th>\n",
       "      <td>Not Verified |  They changed our Flights from ...</td>\n",
       "      <td>NaN</td>\n",
       "      <td>Couple Leisure</td>\n",
       "      <td>Economy Class</td>\n",
       "      <td>Brussels to Los Angeles via London Heathrow</td>\n",
       "      <td>April 2023</td>\n",
       "      <td>no</td>\n",
       "      <td>1</td>\n",
       "      <td>4</td>\n",
       "      <td>1</td>\n",
       "      <td>3</td>\n",
       "      <td>1</td>\n",
       "      <td>1</td>\n",
       "      <td>1</td>\n",
       "      <td>NaN</td>\n",
       "      <td>NaN</td>\n",
       "      <td>NaN</td>\n",
       "    </tr>\n",
       "  </tbody>\n",
       "</table>\n",
       "</div>"
      ],
      "text/plain": [
       "                                             reviews    aircraft  \\\n",
       "1  Not Verified |  Food was lousy. Who ever is pl...  Boeing 777   \n",
       "2  ✅ Trip Verified | Had the worst experience. Th...  Boeing 777   \n",
       "3  ✅ Trip Verified |  The ground staff were not h...  Dreamliner   \n",
       "4  ✅ Trip Verified |  Second time BA Premium Econ...        A350   \n",
       "5  Not Verified |  They changed our Flights from ...         NaN   \n",
       "\n",
       "  type_of_traveller      cabin_flown  \\\n",
       "1    Couple Leisure  Premium Economy   \n",
       "2    Family Leisure  Premium Economy   \n",
       "3    Family Leisure    Economy Class   \n",
       "4      Solo Leisure  Premium Economy   \n",
       "5    Couple Leisure    Economy Class   \n",
       "\n",
       "                                         route     date_flown recommended  \\\n",
       "1                 Seattle to Zagreb via London     April 2023          no   \n",
       "2            Bangalore to Toronto via London,      April 2023          no   \n",
       "3                             London to Denver  February 2023          no   \n",
       "4                          London to Hong Kong     April 2023         yes   \n",
       "5  Brussels to Los Angeles via London Heathrow     April 2023          no   \n",
       "\n",
       "  Seat Comfort Cabin Staff Service Food & Beverages Inflight Entertainment  \\\n",
       "1            3                   2                1                      1   \n",
       "2            2                   1                2                      3   \n",
       "3            2                   1                1                      3   \n",
       "4            4                   5                4                      3   \n",
       "5            1                   4                1                      3   \n",
       "\n",
       "  Ground Service Wifi & Connectivity Value For Money inflight_entertainment  \\\n",
       "1              3                   1               2                    NaN   \n",
       "2              1                 NaN               1                    NaN   \n",
       "3              1                   1               2                    NaN   \n",
       "4              4                 NaN               4                    NaN   \n",
       "5              1                   1               1                    NaN   \n",
       "\n",
       "  food_and_beverages value_for_money  \n",
       "1                NaN             NaN  \n",
       "2                NaN             NaN  \n",
       "3                NaN             NaN  \n",
       "4                NaN             NaN  \n",
       "5                NaN             NaN  "
      ]
     },
     "execution_count": 69,
     "metadata": {},
     "output_type": "execute_result"
    }
   ],
   "source": [
    "df = pd.DataFrame(data_dict)\n",
    "df = df.transpose()\n",
    "df.shape\n",
    "df.head()"
   ]
  },
  {
   "cell_type": "code",
   "execution_count": 70,
   "metadata": {},
   "outputs": [
    {
     "data": {
      "text/plain": [
       "(3535, 17)"
      ]
     },
     "execution_count": 70,
     "metadata": {},
     "output_type": "execute_result"
    }
   ],
   "source": [
    "df.shape"
   ]
  },
  {
   "cell_type": "code",
   "execution_count": 72,
   "metadata": {},
   "outputs": [],
   "source": [
    "#save data to csv\n",
    "df.to_csv('reviews.csv')"
   ]
  },
  {
   "cell_type": "code",
   "execution_count": 269,
   "metadata": {},
   "outputs": [],
   "source": [
    "#read data from csv\n",
    "df = pd.read_csv('reviews.csv')"
   ]
  },
  {
   "cell_type": "markdown",
   "metadata": {},
   "source": [
    "## DATA WRANGLING"
   ]
  },
  {
   "cell_type": "code",
   "execution_count": 270,
   "metadata": {},
   "outputs": [
    {
     "data": {
      "text/plain": [
       "Unnamed: 0                  int64\n",
       "reviews                    object\n",
       "aircraft                   object\n",
       "type_of_traveller          object\n",
       "cabin_flown                object\n",
       "route                      object\n",
       "date_flown                 object\n",
       "recommended                object\n",
       "Seat Comfort              float64\n",
       "Cabin Staff Service       float64\n",
       "Food & Beverages          float64\n",
       "Inflight Entertainment    float64\n",
       "Ground Service            float64\n",
       "Wifi & Connectivity       float64\n",
       "Value For Money           float64\n",
       "inflight_entertainment    float64\n",
       "food_and_beverages        float64\n",
       "value_for_money           float64\n",
       "dtype: object"
      ]
     },
     "execution_count": 270,
     "metadata": {},
     "output_type": "execute_result"
    }
   ],
   "source": [
    "df.dtypes"
   ]
  },
  {
   "cell_type": "code",
   "execution_count": 272,
   "metadata": {},
   "outputs": [
    {
     "data": {
      "text/plain": [
       "(3535, 18)"
      ]
     },
     "execution_count": 272,
     "metadata": {},
     "output_type": "execute_result"
    }
   ],
   "source": [
    "df.shape"
   ]
  },
  {
   "cell_type": "code",
   "execution_count": 273,
   "metadata": {},
   "outputs": [],
   "source": [
    "#rename column unnamed to id\n",
    "df.rename(columns={'Unnamed: 0':\"id\"}, inplace=True)"
   ]
  },
  {
   "cell_type": "code",
   "execution_count": 274,
   "metadata": {},
   "outputs": [
    {
     "data": {
      "text/html": [
       "<div>\n",
       "<style scoped>\n",
       "    .dataframe tbody tr th:only-of-type {\n",
       "        vertical-align: middle;\n",
       "    }\n",
       "\n",
       "    .dataframe tbody tr th {\n",
       "        vertical-align: top;\n",
       "    }\n",
       "\n",
       "    .dataframe thead th {\n",
       "        text-align: right;\n",
       "    }\n",
       "</style>\n",
       "<table border=\"1\" class=\"dataframe\">\n",
       "  <thead>\n",
       "    <tr style=\"text-align: right;\">\n",
       "      <th></th>\n",
       "      <th>id</th>\n",
       "      <th>reviews</th>\n",
       "      <th>aircraft</th>\n",
       "      <th>type_of_traveller</th>\n",
       "      <th>cabin_flown</th>\n",
       "      <th>route</th>\n",
       "      <th>date_flown</th>\n",
       "      <th>recommended</th>\n",
       "      <th>Seat Comfort</th>\n",
       "      <th>Cabin Staff Service</th>\n",
       "      <th>Food &amp; Beverages</th>\n",
       "      <th>Inflight Entertainment</th>\n",
       "      <th>Ground Service</th>\n",
       "      <th>Wifi &amp; Connectivity</th>\n",
       "      <th>Value For Money</th>\n",
       "      <th>inflight_entertainment</th>\n",
       "      <th>food_and_beverages</th>\n",
       "      <th>value_for_money</th>\n",
       "    </tr>\n",
       "  </thead>\n",
       "  <tbody>\n",
       "    <tr>\n",
       "      <th>0</th>\n",
       "      <td>1</td>\n",
       "      <td>Not Verified |  Food was lousy. Who ever is pl...</td>\n",
       "      <td>Boeing 777</td>\n",
       "      <td>Couple Leisure</td>\n",
       "      <td>Premium Economy</td>\n",
       "      <td>Seattle to Zagreb via London</td>\n",
       "      <td>April 2023</td>\n",
       "      <td>no</td>\n",
       "      <td>3.0</td>\n",
       "      <td>2.0</td>\n",
       "      <td>1.0</td>\n",
       "      <td>1.0</td>\n",
       "      <td>3.0</td>\n",
       "      <td>1.0</td>\n",
       "      <td>2.0</td>\n",
       "      <td>NaN</td>\n",
       "      <td>NaN</td>\n",
       "      <td>NaN</td>\n",
       "    </tr>\n",
       "    <tr>\n",
       "      <th>1</th>\n",
       "      <td>2</td>\n",
       "      <td>✅ Trip Verified | Had the worst experience. Th...</td>\n",
       "      <td>Boeing 777</td>\n",
       "      <td>Family Leisure</td>\n",
       "      <td>Premium Economy</td>\n",
       "      <td>Bangalore to Toronto via London,</td>\n",
       "      <td>April 2023</td>\n",
       "      <td>no</td>\n",
       "      <td>2.0</td>\n",
       "      <td>1.0</td>\n",
       "      <td>2.0</td>\n",
       "      <td>3.0</td>\n",
       "      <td>1.0</td>\n",
       "      <td>NaN</td>\n",
       "      <td>1.0</td>\n",
       "      <td>NaN</td>\n",
       "      <td>NaN</td>\n",
       "      <td>NaN</td>\n",
       "    </tr>\n",
       "    <tr>\n",
       "      <th>2</th>\n",
       "      <td>3</td>\n",
       "      <td>✅ Trip Verified |  The ground staff were not h...</td>\n",
       "      <td>Dreamliner</td>\n",
       "      <td>Family Leisure</td>\n",
       "      <td>Economy Class</td>\n",
       "      <td>London to Denver</td>\n",
       "      <td>February 2023</td>\n",
       "      <td>no</td>\n",
       "      <td>2.0</td>\n",
       "      <td>1.0</td>\n",
       "      <td>1.0</td>\n",
       "      <td>3.0</td>\n",
       "      <td>1.0</td>\n",
       "      <td>1.0</td>\n",
       "      <td>2.0</td>\n",
       "      <td>NaN</td>\n",
       "      <td>NaN</td>\n",
       "      <td>NaN</td>\n",
       "    </tr>\n",
       "    <tr>\n",
       "      <th>3</th>\n",
       "      <td>4</td>\n",
       "      <td>✅ Trip Verified |  Second time BA Premium Econ...</td>\n",
       "      <td>A350</td>\n",
       "      <td>Solo Leisure</td>\n",
       "      <td>Premium Economy</td>\n",
       "      <td>London to Hong Kong</td>\n",
       "      <td>April 2023</td>\n",
       "      <td>yes</td>\n",
       "      <td>4.0</td>\n",
       "      <td>5.0</td>\n",
       "      <td>4.0</td>\n",
       "      <td>3.0</td>\n",
       "      <td>4.0</td>\n",
       "      <td>NaN</td>\n",
       "      <td>4.0</td>\n",
       "      <td>NaN</td>\n",
       "      <td>NaN</td>\n",
       "      <td>NaN</td>\n",
       "    </tr>\n",
       "    <tr>\n",
       "      <th>4</th>\n",
       "      <td>5</td>\n",
       "      <td>Not Verified |  They changed our Flights from ...</td>\n",
       "      <td>NaN</td>\n",
       "      <td>Couple Leisure</td>\n",
       "      <td>Economy Class</td>\n",
       "      <td>Brussels to Los Angeles via London Heathrow</td>\n",
       "      <td>April 2023</td>\n",
       "      <td>no</td>\n",
       "      <td>1.0</td>\n",
       "      <td>4.0</td>\n",
       "      <td>1.0</td>\n",
       "      <td>3.0</td>\n",
       "      <td>1.0</td>\n",
       "      <td>1.0</td>\n",
       "      <td>1.0</td>\n",
       "      <td>NaN</td>\n",
       "      <td>NaN</td>\n",
       "      <td>NaN</td>\n",
       "    </tr>\n",
       "    <tr>\n",
       "      <th>...</th>\n",
       "      <td>...</td>\n",
       "      <td>...</td>\n",
       "      <td>...</td>\n",
       "      <td>...</td>\n",
       "      <td>...</td>\n",
       "      <td>...</td>\n",
       "      <td>...</td>\n",
       "      <td>...</td>\n",
       "      <td>...</td>\n",
       "      <td>...</td>\n",
       "      <td>...</td>\n",
       "      <td>...</td>\n",
       "      <td>...</td>\n",
       "      <td>...</td>\n",
       "      <td>...</td>\n",
       "      <td>...</td>\n",
       "      <td>...</td>\n",
       "      <td>...</td>\n",
       "    </tr>\n",
       "    <tr>\n",
       "      <th>3530</th>\n",
       "      <td>3531</td>\n",
       "      <td>Flew LHR - VIE return operated by bmi but BA a...</td>\n",
       "      <td>NaN</td>\n",
       "      <td>NaN</td>\n",
       "      <td>Economy Class</td>\n",
       "      <td>NaN</td>\n",
       "      <td>NaN</td>\n",
       "      <td>yes</td>\n",
       "      <td>5.0</td>\n",
       "      <td>5.0</td>\n",
       "      <td>5.0</td>\n",
       "      <td>NaN</td>\n",
       "      <td>NaN</td>\n",
       "      <td>NaN</td>\n",
       "      <td>4.0</td>\n",
       "      <td>NaN</td>\n",
       "      <td>NaN</td>\n",
       "      <td>NaN</td>\n",
       "    </tr>\n",
       "    <tr>\n",
       "      <th>3531</th>\n",
       "      <td>3532</td>\n",
       "      <td>LHR to HAM. Purser addresses all club passenge...</td>\n",
       "      <td>NaN</td>\n",
       "      <td>NaN</td>\n",
       "      <td>Business Class</td>\n",
       "      <td>NaN</td>\n",
       "      <td>NaN</td>\n",
       "      <td>yes</td>\n",
       "      <td>4.0</td>\n",
       "      <td>5.0</td>\n",
       "      <td>4.0</td>\n",
       "      <td>NaN</td>\n",
       "      <td>NaN</td>\n",
       "      <td>NaN</td>\n",
       "      <td>3.0</td>\n",
       "      <td>NaN</td>\n",
       "      <td>NaN</td>\n",
       "      <td>NaN</td>\n",
       "    </tr>\n",
       "    <tr>\n",
       "      <th>3532</th>\n",
       "      <td>3533</td>\n",
       "      <td>My son who had worked for British Airways urge...</td>\n",
       "      <td>NaN</td>\n",
       "      <td>NaN</td>\n",
       "      <td>Economy Class</td>\n",
       "      <td>NaN</td>\n",
       "      <td>NaN</td>\n",
       "      <td>yes</td>\n",
       "      <td>NaN</td>\n",
       "      <td>NaN</td>\n",
       "      <td>NaN</td>\n",
       "      <td>NaN</td>\n",
       "      <td>NaN</td>\n",
       "      <td>NaN</td>\n",
       "      <td>4.0</td>\n",
       "      <td>NaN</td>\n",
       "      <td>NaN</td>\n",
       "      <td>NaN</td>\n",
       "    </tr>\n",
       "    <tr>\n",
       "      <th>3533</th>\n",
       "      <td>3534</td>\n",
       "      <td>London City-New York JFK via Shannon on A318 b...</td>\n",
       "      <td>NaN</td>\n",
       "      <td>NaN</td>\n",
       "      <td>Premium Economy</td>\n",
       "      <td>NaN</td>\n",
       "      <td>NaN</td>\n",
       "      <td>no</td>\n",
       "      <td>1.0</td>\n",
       "      <td>3.0</td>\n",
       "      <td>5.0</td>\n",
       "      <td>NaN</td>\n",
       "      <td>NaN</td>\n",
       "      <td>NaN</td>\n",
       "      <td>1.0</td>\n",
       "      <td>NaN</td>\n",
       "      <td>NaN</td>\n",
       "      <td>NaN</td>\n",
       "    </tr>\n",
       "    <tr>\n",
       "      <th>3534</th>\n",
       "      <td>3535</td>\n",
       "      <td>SIN-LHR BA12 B747-436 First Class. Old aircraf...</td>\n",
       "      <td>NaN</td>\n",
       "      <td>NaN</td>\n",
       "      <td>First Class</td>\n",
       "      <td>NaN</td>\n",
       "      <td>NaN</td>\n",
       "      <td>no</td>\n",
       "      <td>4.0</td>\n",
       "      <td>5.0</td>\n",
       "      <td>5.0</td>\n",
       "      <td>2.0</td>\n",
       "      <td>NaN</td>\n",
       "      <td>NaN</td>\n",
       "      <td>2.0</td>\n",
       "      <td>NaN</td>\n",
       "      <td>NaN</td>\n",
       "      <td>NaN</td>\n",
       "    </tr>\n",
       "  </tbody>\n",
       "</table>\n",
       "<p>3535 rows × 18 columns</p>\n",
       "</div>"
      ],
      "text/plain": [
       "        id                                            reviews    aircraft  \\\n",
       "0        1  Not Verified |  Food was lousy. Who ever is pl...  Boeing 777   \n",
       "1        2  ✅ Trip Verified | Had the worst experience. Th...  Boeing 777   \n",
       "2        3  ✅ Trip Verified |  The ground staff were not h...  Dreamliner   \n",
       "3        4  ✅ Trip Verified |  Second time BA Premium Econ...        A350   \n",
       "4        5  Not Verified |  They changed our Flights from ...         NaN   \n",
       "...    ...                                                ...         ...   \n",
       "3530  3531  Flew LHR - VIE return operated by bmi but BA a...         NaN   \n",
       "3531  3532  LHR to HAM. Purser addresses all club passenge...         NaN   \n",
       "3532  3533  My son who had worked for British Airways urge...         NaN   \n",
       "3533  3534  London City-New York JFK via Shannon on A318 b...         NaN   \n",
       "3534  3535  SIN-LHR BA12 B747-436 First Class. Old aircraf...         NaN   \n",
       "\n",
       "     type_of_traveller      cabin_flown  \\\n",
       "0       Couple Leisure  Premium Economy   \n",
       "1       Family Leisure  Premium Economy   \n",
       "2       Family Leisure    Economy Class   \n",
       "3         Solo Leisure  Premium Economy   \n",
       "4       Couple Leisure    Economy Class   \n",
       "...                ...              ...   \n",
       "3530               NaN    Economy Class   \n",
       "3531               NaN   Business Class   \n",
       "3532               NaN    Economy Class   \n",
       "3533               NaN  Premium Economy   \n",
       "3534               NaN      First Class   \n",
       "\n",
       "                                            route     date_flown recommended  \\\n",
       "0                    Seattle to Zagreb via London     April 2023          no   \n",
       "1               Bangalore to Toronto via London,      April 2023          no   \n",
       "2                                London to Denver  February 2023          no   \n",
       "3                             London to Hong Kong     April 2023         yes   \n",
       "4     Brussels to Los Angeles via London Heathrow     April 2023          no   \n",
       "...                                           ...            ...         ...   \n",
       "3530                                          NaN            NaN         yes   \n",
       "3531                                          NaN            NaN         yes   \n",
       "3532                                          NaN            NaN         yes   \n",
       "3533                                          NaN            NaN          no   \n",
       "3534                                          NaN            NaN          no   \n",
       "\n",
       "      Seat Comfort  Cabin Staff Service  Food & Beverages  \\\n",
       "0              3.0                  2.0               1.0   \n",
       "1              2.0                  1.0               2.0   \n",
       "2              2.0                  1.0               1.0   \n",
       "3              4.0                  5.0               4.0   \n",
       "4              1.0                  4.0               1.0   \n",
       "...            ...                  ...               ...   \n",
       "3530           5.0                  5.0               5.0   \n",
       "3531           4.0                  5.0               4.0   \n",
       "3532           NaN                  NaN               NaN   \n",
       "3533           1.0                  3.0               5.0   \n",
       "3534           4.0                  5.0               5.0   \n",
       "\n",
       "      Inflight Entertainment  Ground Service  Wifi & Connectivity  \\\n",
       "0                        1.0             3.0                  1.0   \n",
       "1                        3.0             1.0                  NaN   \n",
       "2                        3.0             1.0                  1.0   \n",
       "3                        3.0             4.0                  NaN   \n",
       "4                        3.0             1.0                  1.0   \n",
       "...                      ...             ...                  ...   \n",
       "3530                     NaN             NaN                  NaN   \n",
       "3531                     NaN             NaN                  NaN   \n",
       "3532                     NaN             NaN                  NaN   \n",
       "3533                     NaN             NaN                  NaN   \n",
       "3534                     2.0             NaN                  NaN   \n",
       "\n",
       "      Value For Money  inflight_entertainment  food_and_beverages  \\\n",
       "0                 2.0                     NaN                 NaN   \n",
       "1                 1.0                     NaN                 NaN   \n",
       "2                 2.0                     NaN                 NaN   \n",
       "3                 4.0                     NaN                 NaN   \n",
       "4                 1.0                     NaN                 NaN   \n",
       "...               ...                     ...                 ...   \n",
       "3530              4.0                     NaN                 NaN   \n",
       "3531              3.0                     NaN                 NaN   \n",
       "3532              4.0                     NaN                 NaN   \n",
       "3533              1.0                     NaN                 NaN   \n",
       "3534              2.0                     NaN                 NaN   \n",
       "\n",
       "      value_for_money  \n",
       "0                 NaN  \n",
       "1                 NaN  \n",
       "2                 NaN  \n",
       "3                 NaN  \n",
       "4                 NaN  \n",
       "...               ...  \n",
       "3530              NaN  \n",
       "3531              NaN  \n",
       "3532              NaN  \n",
       "3533              NaN  \n",
       "3534              NaN  \n",
       "\n",
       "[3535 rows x 18 columns]"
      ]
     },
     "execution_count": 274,
     "metadata": {},
     "output_type": "execute_result"
    }
   ],
   "source": [
    "df"
   ]
  },
  {
   "cell_type": "code",
   "execution_count": 275,
   "metadata": {},
   "outputs": [
    {
     "data": {
      "text/plain": [
       "id                          int64\n",
       "reviews                    object\n",
       "aircraft                   object\n",
       "type_of_traveller          object\n",
       "cabin_flown                object\n",
       "route                      object\n",
       "date_flown                 object\n",
       "recommended                object\n",
       "Seat Comfort              float64\n",
       "Cabin Staff Service       float64\n",
       "Food & Beverages          float64\n",
       "Inflight Entertainment    float64\n",
       "Ground Service            float64\n",
       "Wifi & Connectivity       float64\n",
       "Value For Money           float64\n",
       "inflight_entertainment    float64\n",
       "food_and_beverages        float64\n",
       "value_for_money           float64\n",
       "dtype: object"
      ]
     },
     "execution_count": 275,
     "metadata": {},
     "output_type": "execute_result"
    }
   ],
   "source": [
    "#remove repeated columns\n",
    "df.dtypes"
   ]
  },
  {
   "cell_type": "code",
   "execution_count": 276,
   "metadata": {},
   "outputs": [],
   "source": [
    "#remove repeated columns\n",
    "repeated_columns = ['inflight_entertainment', 'food_and_beverages','value_for_money']\n",
    "for col in repeated_columns:\n",
    "    df.drop([col], axis=1, inplace=True)"
   ]
  },
  {
   "cell_type": "code",
   "execution_count": 277,
   "metadata": {},
   "outputs": [
    {
     "data": {
      "text/plain": [
       "id                          int64\n",
       "reviews                    object\n",
       "aircraft                   object\n",
       "type_of_traveller          object\n",
       "cabin_flown                object\n",
       "route                      object\n",
       "date_flown                 object\n",
       "recommended                object\n",
       "Seat Comfort              float64\n",
       "Cabin Staff Service       float64\n",
       "Food & Beverages          float64\n",
       "Inflight Entertainment    float64\n",
       "Ground Service            float64\n",
       "Wifi & Connectivity       float64\n",
       "Value For Money           float64\n",
       "dtype: object"
      ]
     },
     "execution_count": 277,
     "metadata": {},
     "output_type": "execute_result"
    }
   ],
   "source": [
    "df.dtypes"
   ]
  },
  {
   "cell_type": "code",
   "execution_count": 278,
   "metadata": {},
   "outputs": [
    {
     "data": {
      "text/plain": [
       "id                                 int64\n",
       "reviews                           object\n",
       "aircraft                          object\n",
       "type_of_traveller                 object\n",
       "seat_type                         object\n",
       "route                             object\n",
       "date_flown                datetime64[ns]\n",
       "recommended                       object\n",
       "Seat Comfort                     float64\n",
       "Cabin Staff Service              float64\n",
       "Food & Beverages                 float64\n",
       "Inflight Entertainment           float64\n",
       "Ground Service                   float64\n",
       "Wifi & Connectivity              float64\n",
       "Value For Money                  float64\n",
       "dtype: object"
      ]
     },
     "execution_count": 278,
     "metadata": {},
     "output_type": "execute_result"
    }
   ],
   "source": [
    "#convert date_flown to datetime\n",
    "df['date_flown'] = pd.to_datetime(df['date_flown'])\n",
    "\n",
    "#rename cabin_flown to seat type\n",
    "df.rename(columns={\"cabin_flown\":\"seat_type\"}, inplace=True)\n",
    "df.dtypes"
   ]
  },
  {
   "cell_type": "code",
   "execution_count": 279,
   "metadata": {},
   "outputs": [],
   "source": [
    "#drop rows with at first 6 ratings null\n",
    "dropping_index = df[(df['Seat Comfort'].isnull()) & (df['Wifi & Connectivity'].isnull()) & (df['Ground Service'].isnull())\n",
    "   & (df['Inflight Entertainment'].isnull()) & (df['Food & Beverages'].isnull())\n",
    "   & (df['Cabin Staff Service'].isnull()) & (df['Seat Comfort'].isnull())].index\n",
    "\n",
    "df.drop(dropping_index, inplace=True)"
   ]
  },
  {
   "cell_type": "code",
   "execution_count": 282,
   "metadata": {},
   "outputs": [],
   "source": [
    "for col in df.columns[8:]:\n",
    "    df[col] = df[col].replace(np.nan, 0).astype('int64')"
   ]
  },
  {
   "cell_type": "code",
   "execution_count": 283,
   "metadata": {},
   "outputs": [
    {
     "data": {
      "text/plain": [
       "(3476, 15)"
      ]
     },
     "execution_count": 283,
     "metadata": {},
     "output_type": "execute_result"
    }
   ],
   "source": [
    "df.shape"
   ]
  },
  {
   "cell_type": "code",
   "execution_count": 284,
   "metadata": {},
   "outputs": [
    {
     "data": {
      "text/html": [
       "<div>\n",
       "<style scoped>\n",
       "    .dataframe tbody tr th:only-of-type {\n",
       "        vertical-align: middle;\n",
       "    }\n",
       "\n",
       "    .dataframe tbody tr th {\n",
       "        vertical-align: top;\n",
       "    }\n",
       "\n",
       "    .dataframe thead th {\n",
       "        text-align: right;\n",
       "    }\n",
       "</style>\n",
       "<table border=\"1\" class=\"dataframe\">\n",
       "  <thead>\n",
       "    <tr style=\"text-align: right;\">\n",
       "      <th></th>\n",
       "      <th>id</th>\n",
       "      <th>reviews</th>\n",
       "      <th>aircraft</th>\n",
       "      <th>type_of_traveller</th>\n",
       "      <th>seat_type</th>\n",
       "      <th>route</th>\n",
       "      <th>date_flown</th>\n",
       "      <th>recommended</th>\n",
       "      <th>Seat Comfort</th>\n",
       "      <th>Cabin Staff Service</th>\n",
       "      <th>Food &amp; Beverages</th>\n",
       "      <th>Inflight Entertainment</th>\n",
       "      <th>Ground Service</th>\n",
       "      <th>Wifi &amp; Connectivity</th>\n",
       "      <th>Value For Money</th>\n",
       "    </tr>\n",
       "  </thead>\n",
       "  <tbody>\n",
       "    <tr>\n",
       "      <th>0</th>\n",
       "      <td>1</td>\n",
       "      <td>Not Verified |  Food was lousy. Who ever is pl...</td>\n",
       "      <td>Boeing 777</td>\n",
       "      <td>Couple Leisure</td>\n",
       "      <td>Premium Economy</td>\n",
       "      <td>Seattle to Zagreb via London</td>\n",
       "      <td>2023-04-01</td>\n",
       "      <td>no</td>\n",
       "      <td>3</td>\n",
       "      <td>2</td>\n",
       "      <td>1</td>\n",
       "      <td>1</td>\n",
       "      <td>3</td>\n",
       "      <td>1</td>\n",
       "      <td>2</td>\n",
       "    </tr>\n",
       "    <tr>\n",
       "      <th>1</th>\n",
       "      <td>2</td>\n",
       "      <td>✅ Trip Verified | Had the worst experience. Th...</td>\n",
       "      <td>Boeing 777</td>\n",
       "      <td>Family Leisure</td>\n",
       "      <td>Premium Economy</td>\n",
       "      <td>Bangalore to Toronto via London,</td>\n",
       "      <td>2023-04-01</td>\n",
       "      <td>no</td>\n",
       "      <td>2</td>\n",
       "      <td>1</td>\n",
       "      <td>2</td>\n",
       "      <td>3</td>\n",
       "      <td>1</td>\n",
       "      <td>0</td>\n",
       "      <td>1</td>\n",
       "    </tr>\n",
       "    <tr>\n",
       "      <th>2</th>\n",
       "      <td>3</td>\n",
       "      <td>✅ Trip Verified |  The ground staff were not h...</td>\n",
       "      <td>Dreamliner</td>\n",
       "      <td>Family Leisure</td>\n",
       "      <td>Economy Class</td>\n",
       "      <td>London to Denver</td>\n",
       "      <td>2023-02-01</td>\n",
       "      <td>no</td>\n",
       "      <td>2</td>\n",
       "      <td>1</td>\n",
       "      <td>1</td>\n",
       "      <td>3</td>\n",
       "      <td>1</td>\n",
       "      <td>1</td>\n",
       "      <td>2</td>\n",
       "    </tr>\n",
       "    <tr>\n",
       "      <th>3</th>\n",
       "      <td>4</td>\n",
       "      <td>✅ Trip Verified |  Second time BA Premium Econ...</td>\n",
       "      <td>A350</td>\n",
       "      <td>Solo Leisure</td>\n",
       "      <td>Premium Economy</td>\n",
       "      <td>London to Hong Kong</td>\n",
       "      <td>2023-04-01</td>\n",
       "      <td>yes</td>\n",
       "      <td>4</td>\n",
       "      <td>5</td>\n",
       "      <td>4</td>\n",
       "      <td>3</td>\n",
       "      <td>4</td>\n",
       "      <td>0</td>\n",
       "      <td>4</td>\n",
       "    </tr>\n",
       "    <tr>\n",
       "      <th>4</th>\n",
       "      <td>5</td>\n",
       "      <td>Not Verified |  They changed our Flights from ...</td>\n",
       "      <td>NaN</td>\n",
       "      <td>Couple Leisure</td>\n",
       "      <td>Economy Class</td>\n",
       "      <td>Brussels to Los Angeles via London Heathrow</td>\n",
       "      <td>2023-04-01</td>\n",
       "      <td>no</td>\n",
       "      <td>1</td>\n",
       "      <td>4</td>\n",
       "      <td>1</td>\n",
       "      <td>3</td>\n",
       "      <td>1</td>\n",
       "      <td>1</td>\n",
       "      <td>1</td>\n",
       "    </tr>\n",
       "    <tr>\n",
       "      <th>...</th>\n",
       "      <td>...</td>\n",
       "      <td>...</td>\n",
       "      <td>...</td>\n",
       "      <td>...</td>\n",
       "      <td>...</td>\n",
       "      <td>...</td>\n",
       "      <td>...</td>\n",
       "      <td>...</td>\n",
       "      <td>...</td>\n",
       "      <td>...</td>\n",
       "      <td>...</td>\n",
       "      <td>...</td>\n",
       "      <td>...</td>\n",
       "      <td>...</td>\n",
       "      <td>...</td>\n",
       "    </tr>\n",
       "    <tr>\n",
       "      <th>3529</th>\n",
       "      <td>3530</td>\n",
       "      <td>Flew return in CW from LHR to BKK in August 20...</td>\n",
       "      <td>NaN</td>\n",
       "      <td>NaN</td>\n",
       "      <td>Business Class</td>\n",
       "      <td>NaN</td>\n",
       "      <td>NaT</td>\n",
       "      <td>yes</td>\n",
       "      <td>4</td>\n",
       "      <td>3</td>\n",
       "      <td>2</td>\n",
       "      <td>4</td>\n",
       "      <td>0</td>\n",
       "      <td>0</td>\n",
       "      <td>3</td>\n",
       "    </tr>\n",
       "    <tr>\n",
       "      <th>3530</th>\n",
       "      <td>3531</td>\n",
       "      <td>Flew LHR - VIE return operated by bmi but BA a...</td>\n",
       "      <td>NaN</td>\n",
       "      <td>NaN</td>\n",
       "      <td>Economy Class</td>\n",
       "      <td>NaN</td>\n",
       "      <td>NaT</td>\n",
       "      <td>yes</td>\n",
       "      <td>5</td>\n",
       "      <td>5</td>\n",
       "      <td>5</td>\n",
       "      <td>0</td>\n",
       "      <td>0</td>\n",
       "      <td>0</td>\n",
       "      <td>4</td>\n",
       "    </tr>\n",
       "    <tr>\n",
       "      <th>3531</th>\n",
       "      <td>3532</td>\n",
       "      <td>LHR to HAM. Purser addresses all club passenge...</td>\n",
       "      <td>NaN</td>\n",
       "      <td>NaN</td>\n",
       "      <td>Business Class</td>\n",
       "      <td>NaN</td>\n",
       "      <td>NaT</td>\n",
       "      <td>yes</td>\n",
       "      <td>4</td>\n",
       "      <td>5</td>\n",
       "      <td>4</td>\n",
       "      <td>0</td>\n",
       "      <td>0</td>\n",
       "      <td>0</td>\n",
       "      <td>3</td>\n",
       "    </tr>\n",
       "    <tr>\n",
       "      <th>3533</th>\n",
       "      <td>3534</td>\n",
       "      <td>London City-New York JFK via Shannon on A318 b...</td>\n",
       "      <td>NaN</td>\n",
       "      <td>NaN</td>\n",
       "      <td>Premium Economy</td>\n",
       "      <td>NaN</td>\n",
       "      <td>NaT</td>\n",
       "      <td>no</td>\n",
       "      <td>1</td>\n",
       "      <td>3</td>\n",
       "      <td>5</td>\n",
       "      <td>0</td>\n",
       "      <td>0</td>\n",
       "      <td>0</td>\n",
       "      <td>1</td>\n",
       "    </tr>\n",
       "    <tr>\n",
       "      <th>3534</th>\n",
       "      <td>3535</td>\n",
       "      <td>SIN-LHR BA12 B747-436 First Class. Old aircraf...</td>\n",
       "      <td>NaN</td>\n",
       "      <td>NaN</td>\n",
       "      <td>First Class</td>\n",
       "      <td>NaN</td>\n",
       "      <td>NaT</td>\n",
       "      <td>no</td>\n",
       "      <td>4</td>\n",
       "      <td>5</td>\n",
       "      <td>5</td>\n",
       "      <td>2</td>\n",
       "      <td>0</td>\n",
       "      <td>0</td>\n",
       "      <td>2</td>\n",
       "    </tr>\n",
       "  </tbody>\n",
       "</table>\n",
       "<p>3476 rows × 15 columns</p>\n",
       "</div>"
      ],
      "text/plain": [
       "        id                                            reviews    aircraft  \\\n",
       "0        1  Not Verified |  Food was lousy. Who ever is pl...  Boeing 777   \n",
       "1        2  ✅ Trip Verified | Had the worst experience. Th...  Boeing 777   \n",
       "2        3  ✅ Trip Verified |  The ground staff were not h...  Dreamliner   \n",
       "3        4  ✅ Trip Verified |  Second time BA Premium Econ...        A350   \n",
       "4        5  Not Verified |  They changed our Flights from ...         NaN   \n",
       "...    ...                                                ...         ...   \n",
       "3529  3530  Flew return in CW from LHR to BKK in August 20...         NaN   \n",
       "3530  3531  Flew LHR - VIE return operated by bmi but BA a...         NaN   \n",
       "3531  3532  LHR to HAM. Purser addresses all club passenge...         NaN   \n",
       "3533  3534  London City-New York JFK via Shannon on A318 b...         NaN   \n",
       "3534  3535  SIN-LHR BA12 B747-436 First Class. Old aircraf...         NaN   \n",
       "\n",
       "     type_of_traveller        seat_type  \\\n",
       "0       Couple Leisure  Premium Economy   \n",
       "1       Family Leisure  Premium Economy   \n",
       "2       Family Leisure    Economy Class   \n",
       "3         Solo Leisure  Premium Economy   \n",
       "4       Couple Leisure    Economy Class   \n",
       "...                ...              ...   \n",
       "3529               NaN   Business Class   \n",
       "3530               NaN    Economy Class   \n",
       "3531               NaN   Business Class   \n",
       "3533               NaN  Premium Economy   \n",
       "3534               NaN      First Class   \n",
       "\n",
       "                                            route date_flown recommended  \\\n",
       "0                    Seattle to Zagreb via London 2023-04-01          no   \n",
       "1               Bangalore to Toronto via London,  2023-04-01          no   \n",
       "2                                London to Denver 2023-02-01          no   \n",
       "3                             London to Hong Kong 2023-04-01         yes   \n",
       "4     Brussels to Los Angeles via London Heathrow 2023-04-01          no   \n",
       "...                                           ...        ...         ...   \n",
       "3529                                          NaN        NaT         yes   \n",
       "3530                                          NaN        NaT         yes   \n",
       "3531                                          NaN        NaT         yes   \n",
       "3533                                          NaN        NaT          no   \n",
       "3534                                          NaN        NaT          no   \n",
       "\n",
       "      Seat Comfort  Cabin Staff Service  Food & Beverages  \\\n",
       "0                3                    2                 1   \n",
       "1                2                    1                 2   \n",
       "2                2                    1                 1   \n",
       "3                4                    5                 4   \n",
       "4                1                    4                 1   \n",
       "...            ...                  ...               ...   \n",
       "3529             4                    3                 2   \n",
       "3530             5                    5                 5   \n",
       "3531             4                    5                 4   \n",
       "3533             1                    3                 5   \n",
       "3534             4                    5                 5   \n",
       "\n",
       "      Inflight Entertainment  Ground Service  Wifi & Connectivity  \\\n",
       "0                          1               3                    1   \n",
       "1                          3               1                    0   \n",
       "2                          3               1                    1   \n",
       "3                          3               4                    0   \n",
       "4                          3               1                    1   \n",
       "...                      ...             ...                  ...   \n",
       "3529                       4               0                    0   \n",
       "3530                       0               0                    0   \n",
       "3531                       0               0                    0   \n",
       "3533                       0               0                    0   \n",
       "3534                       2               0                    0   \n",
       "\n",
       "      Value For Money  \n",
       "0                   2  \n",
       "1                   1  \n",
       "2                   2  \n",
       "3                   4  \n",
       "4                   1  \n",
       "...               ...  \n",
       "3529                3  \n",
       "3530                4  \n",
       "3531                3  \n",
       "3533                1  \n",
       "3534                2  \n",
       "\n",
       "[3476 rows x 15 columns]"
      ]
     },
     "execution_count": 284,
     "metadata": {},
     "output_type": "execute_result"
    }
   ],
   "source": [
    "df"
   ]
  },
  {
   "cell_type": "code",
   "execution_count": 286,
   "metadata": {},
   "outputs": [],
   "source": [
    "#remove the Verified text on the reviews\n",
    "df['reviews'] = df['reviews'].apply(lambda x:x.split('|')[1] if (\"|\" in x) else x)"
   ]
  },
  {
   "cell_type": "code",
   "execution_count": 287,
   "metadata": {},
   "outputs": [
    {
     "data": {
      "text/plain": [
       "(3476, 15)"
      ]
     },
     "execution_count": 287,
     "metadata": {},
     "output_type": "execute_result"
    }
   ],
   "source": [
    "df.shape"
   ]
  },
  {
   "cell_type": "code",
   "execution_count": 288,
   "metadata": {},
   "outputs": [],
   "source": [
    "df.to_csv('wrangled.csv')"
   ]
  },
  {
   "cell_type": "markdown",
   "metadata": {},
   "source": [
    "## Visualization of ratings"
   ]
  },
  {
   "cell_type": "code",
   "execution_count": 289,
   "metadata": {},
   "outputs": [],
   "source": [
    "df_new = df.copy()"
   ]
  },
  {
   "cell_type": "code",
   "execution_count": 290,
   "metadata": {},
   "outputs": [
    {
     "data": {
      "text/plain": [
       "<PandasArray>\n",
       "[          'Seat Comfort',    'Cabin Staff Service',       'Food & Beverages',\n",
       " 'Inflight Entertainment',         'Ground Service',    'Wifi & Connectivity',\n",
       "        'Value For Money']\n",
       "Length: 7, dtype: object"
      ]
     },
     "execution_count": 290,
     "metadata": {},
     "output_type": "execute_result"
    }
   ],
   "source": [
    "#get ratings and sort in ascending order of index and put in array\n",
    "seat_comfort = df_new['Seat Comfort'].value_counts().sort_index().array\n",
    "staff_service = df_new['Cabin Staff Service'].value_counts().sort_index().array\n",
    "food_beverage = df_new['Food & Beverages'].value_counts().sort_index().array\n",
    "inflight_entertain = df_new['Inflight Entertainment'].value_counts().sort_index().array\n",
    "ground_service = df_new['Ground Service'].value_counts().sort_index().array\n",
    "wifi_connect = df_new['Wifi & Connectivity'].value_counts().sort_index().array\n",
    "value_money = df_new['Value For Money'].value_counts().sort_index().array\n",
    "\n",
    "rating_index = df.columns[8:].array\n",
    "rating_index\n",
    "# rating_index.replace(\" \",\"\")"
   ]
  },
  {
   "cell_type": "code",
   "execution_count": 293,
   "metadata": {},
   "outputs": [
    {
     "data": {
      "text/plain": [
       "[<PandasArray>\n",
       " [43, 772, 574, 810, 790, 487]\n",
       " Length: 6, dtype: int64,\n",
       " <PandasArray>\n",
       " [53, 649, 484, 583, 692, 1015]\n",
       " Length: 6, dtype: int64,\n",
       " <PandasArray>\n",
       " [288, 942, 552, 580, 643, 471]\n",
       " Length: 6, dtype: int64,\n",
       " <PandasArray>\n",
       " [1011, 751, 422, 524, 462, 306]\n",
       " Length: 6, dtype: int64,\n",
       " <PandasArray>\n",
       " [780, 776, 345, 546, 614, 415]\n",
       " Length: 6, dtype: int64,\n",
       " <PandasArray>\n",
       " [2932, 329, 59, 63, 43, 50]\n",
       " Length: 6, dtype: int64,\n",
       " <PandasArray>\n",
       " [1, 1043, 555, 653, 662, 562]\n",
       " Length: 6, dtype: int64]"
      ]
     },
     "execution_count": 293,
     "metadata": {},
     "output_type": "execute_result"
    }
   ],
   "source": [
    "data = [seat_comfort,staff_service,food_beverage,inflight_entertain,ground_service,wifi_connect,value_money]\n",
    "data"
   ]
  },
  {
   "cell_type": "code",
   "execution_count": 294,
   "metadata": {},
   "outputs": [],
   "source": [
    "r_frame = pd.DataFrame(data = data, columns=['0','1','2','3','4','5'], index=rating_index)"
   ]
  },
  {
   "cell_type": "code",
   "execution_count": 297,
   "metadata": {},
   "outputs": [],
   "source": [
    "r_frame.drop(['0'], inplace=True, axis=1)"
   ]
  },
  {
   "cell_type": "code",
   "execution_count": 320,
   "metadata": {},
   "outputs": [
    {
     "data": {
      "text/plain": [
       "Text(0.5, 0, 'Services')"
      ]
     },
     "execution_count": 320,
     "metadata": {},
     "output_type": "execute_result"
    },
    {
     "data": {
      "image/png": "[encoded data removed]",
      "text/plain": [
       "<Figure size 1500x500 with 1 Axes>"
      ]
     },
     "metadata": {},
     "output_type": "display_data"
    }
   ],
   "source": [
    "my_colors = ['navy','r','g','y','black']\n",
    "ax = r_frame.plot.bar(rot=0, width=0.7, figsize=(15,5), color=my_colors)\n",
    "plt.title(\"A Bar Chart Of Ratings Made For British Airways Services\")\n",
    "plt.ylabel(\"Count of Ratings\")\n",
    "plt.xlabel(\"Services\")\n",
    "# for container in ax.containers:\n",
    "#     ax.bar_label(container)"
   ]
  },
  {
   "cell_type": "markdown",
   "metadata": {},
   "source": [
    "# Compare seat type with ratings as well as recommended with ratings"
   ]
  },
  {
   "cell_type": "markdown",
   "metadata": {},
   "source": [
    "## What parameters made customers recommend\n",
    "## what seat type receives good ratings"
   ]
  },
  {
   "cell_type": "code",
   "execution_count": 260,
   "metadata": {},
   "outputs": [
    {
     "data": {
      "text/html": [
       "<div>\n",
       "<style scoped>\n",
       "    .dataframe tbody tr th:only-of-type {\n",
       "        vertical-align: middle;\n",
       "    }\n",
       "\n",
       "    .dataframe tbody tr th {\n",
       "        vertical-align: top;\n",
       "    }\n",
       "\n",
       "    .dataframe thead th {\n",
       "        text-align: right;\n",
       "    }\n",
       "</style>\n",
       "<table border=\"1\" class=\"dataframe\">\n",
       "  <thead>\n",
       "    <tr style=\"text-align: right;\">\n",
       "      <th></th>\n",
       "      <th>speed</th>\n",
       "      <th>lifespan</th>\n",
       "    </tr>\n",
       "  </thead>\n",
       "  <tbody>\n",
       "    <tr>\n",
       "      <th>snail</th>\n",
       "      <td>0.1</td>\n",
       "      <td>2.0</td>\n",
       "    </tr>\n",
       "    <tr>\n",
       "      <th>pig</th>\n",
       "      <td>17.5</td>\n",
       "      <td>8.0</td>\n",
       "    </tr>\n",
       "    <tr>\n",
       "      <th>elephant</th>\n",
       "      <td>40.0</td>\n",
       "      <td>70.0</td>\n",
       "    </tr>\n",
       "    <tr>\n",
       "      <th>rabbit</th>\n",
       "      <td>48.0</td>\n",
       "      <td>1.5</td>\n",
       "    </tr>\n",
       "    <tr>\n",
       "      <th>giraffe</th>\n",
       "      <td>52.0</td>\n",
       "      <td>25.0</td>\n",
       "    </tr>\n",
       "    <tr>\n",
       "      <th>coyote</th>\n",
       "      <td>69.0</td>\n",
       "      <td>12.0</td>\n",
       "    </tr>\n",
       "    <tr>\n",
       "      <th>horse</th>\n",
       "      <td>88.0</td>\n",
       "      <td>28.0</td>\n",
       "    </tr>\n",
       "  </tbody>\n",
       "</table>\n",
       "</div>"
      ],
      "text/plain": [
       "          speed  lifespan\n",
       "snail       0.1       2.0\n",
       "pig        17.5       8.0\n",
       "elephant   40.0      70.0\n",
       "rabbit     48.0       1.5\n",
       "giraffe    52.0      25.0\n",
       "coyote     69.0      12.0\n",
       "horse      88.0      28.0"
      ]
     },
     "execution_count": 260,
     "metadata": {},
     "output_type": "execute_result"
    }
   ],
   "source": [
    "df"
   ]
  },
  {
   "cell_type": "markdown",
   "metadata": {},
   "source": [
    "## Topic Modelling,\n",
    "## Sentiment Analysis\n",
    "## wordclouds"
   ]
  },
  {
   "cell_type": "markdown",
   "metadata": {},
   "source": [
    "### Topic Modelling"
   ]
  },
  {
   "cell_type": "code",
   "execution_count": 17,
   "metadata": {},
   "outputs": [],
   "source": [
    "#import packages\n",
    "from sklearn.feature_extraction.text import CountVectorizer\n",
    "from sklearn.feature_extraction.text import TfidfTransformer\n",
    "from sklearn.decomposition import LatentDirichletAllocation as LDA\n",
    "from nltk.corpus import stopwords\n",
    "import numpy as np\n"
   ]
  },
  {
   "cell_type": "code",
   "execution_count": 18,
   "metadata": {},
   "outputs": [
    {
     "name": "stderr",
     "output_type": "stream",
     "text": [
      "[nltk_data] Downloading package stopwords to\n",
      "[nltk_data]     C:\\Users\\DEGGIE\\AppData\\Roaming\\nltk_data...\n",
      "[nltk_data]   Package stopwords is already up-to-date!\n"
     ]
    },
    {
     "data": {
      "text/plain": [
       "True"
      ]
     },
     "execution_count": 18,
     "metadata": {},
     "output_type": "execute_result"
    }
   ],
   "source": [
    "import nltk\n",
    "nltk.download('stopwords')"
   ]
  },
  {
   "cell_type": "code",
   "execution_count": 19,
   "metadata": {},
   "outputs": [
    {
     "name": "stderr",
     "output_type": "stream",
     "text": [
      "[nltk_data] Downloading package punkt to\n",
      "[nltk_data]     C:\\Users\\DEGGIE\\AppData\\Roaming\\nltk_data...\n",
      "[nltk_data]   Package punkt is already up-to-date!\n",
      "[nltk_data] Downloading package wordnet to\n",
      "[nltk_data]     C:\\Users\\DEGGIE\\AppData\\Roaming\\nltk_data...\n",
      "[nltk_data]   Package wordnet is already up-to-date!\n"
     ]
    }
   ],
   "source": [
    "nltk.download('punkt') \n",
    "nltk.download('wordnet')   \n",
    "from nltk import word_tokenize \n",
    "from nltk.stem import WordNetLemmatizer   \n",
    "class LemmaTokenizer: \n",
    "    def __init__(self): \n",
    "        self.wnl = WordNetLemmatizer() \n",
    "    def __call__(self, doc): \n",
    "        return [self.wnl.lemmatize(t) for t in word_tokenize(doc) if (t.isalpha() and len(t) >= 2)]"
   ]
  },
  {
   "cell_type": "code",
   "execution_count": 20,
   "metadata": {},
   "outputs": [
    {
     "name": "stderr",
     "output_type": "stream",
     "text": [
      "[nltk_data] Downloading package omw-1.4 to\n",
      "[nltk_data]     C:\\Users\\DEGGIE\\AppData\\Roaming\\nltk_data...\n",
      "[nltk_data]   Package omw-1.4 is already up-to-date!\n"
     ]
    },
    {
     "data": {
      "text/plain": [
       "True"
      ]
     },
     "execution_count": 20,
     "metadata": {},
     "output_type": "execute_result"
    }
   ],
   "source": [
    "nltk.download('omw-1.4')"
   ]
  },
  {
   "cell_type": "code",
   "execution_count": 23,
   "metadata": {},
   "outputs": [],
   "source": [
    "new_stopwords = ['could', 'doe', 'ha', 'might', 'must', 'need', 'sha', 'wa', 'wo', 'would']\n",
    "stp_word = nltk.corpus.stopwords.words('english')\n",
    "stp_word.extend(new_stopwords)"
   ]
  },
  {
   "cell_type": "code",
   "execution_count": 24,
   "metadata": {},
   "outputs": [],
   "source": [
    "count_vect = CountVectorizer(stop_words=stopwords.words('english'), tokenizer=LemmaTokenizer(), lowercase=True, max_df=0.5, min_df=10)\n",
    "x_counts = count_vect.fit_transform(df['reviews'].to_numpy())\n",
    "# x_counts.todense()"
   ]
  },
  {
   "cell_type": "code",
   "execution_count": 25,
   "metadata": {},
   "outputs": [
    {
     "data": {
      "text/plain": [
       "array(['able', 'absolutely', 'accept', ..., 'york', 'young', 'zero'],\n",
       "      dtype=object)"
      ]
     },
     "execution_count": 25,
     "metadata": {},
     "output_type": "execute_result"
    }
   ],
   "source": [
    "count_vect.get_feature_names_out()"
   ]
  },
  {
   "cell_type": "code",
   "execution_count": 26,
   "metadata": {},
   "outputs": [],
   "source": [
    "tfidf_transformer = TfidfTransformer()\n",
    "x_tfidf = tfidf_transformer.fit_transform(x_counts)"
   ]
  },
  {
   "cell_type": "code",
   "execution_count": 27,
   "metadata": {},
   "outputs": [
    {
     "data": {
      "text/plain": [
       "array([[0.88171134, 0.05048518, 0.06780348],\n",
       "       [0.68497998, 0.08726333, 0.22775669],\n",
       "       [0.85626632, 0.04579329, 0.09794038],\n",
       "       ...,\n",
       "       [0.37657081, 0.04012432, 0.58330487],\n",
       "       [0.08426215, 0.04413684, 0.87160101],\n",
       "       [0.05395486, 0.04928959, 0.89675555]])"
      ]
     },
     "execution_count": 27,
     "metadata": {},
     "output_type": "execute_result"
    }
   ],
   "source": [
    "dimension = 3\n",
    "lda = LDA(n_components=dimension, random_state=42)\n",
    "lda_array = lda.fit_transform(x_tfidf)\n",
    "lda_array"
   ]
  },
  {
   "cell_type": "code",
   "execution_count": null,
   "metadata": {},
   "outputs": [],
   "source": []
  },
  {
   "cell_type": "code",
   "execution_count": 28,
   "metadata": {},
   "outputs": [
    {
     "name": "stdout",
     "output_type": "stream",
     "text": [
      "[['customer', 'hour', 'airway', 'british', 'airline'], ['thank', 'clothes', 'sydney', 'suitcase', 'wish'], ['seat', 'crew', 'good', 'food', 'cabin']]\n"
     ]
    }
   ],
   "source": [
    "components = [lda.components_[i] for i in range(len(lda.components_))]\n",
    "features = count_vect.get_feature_names_out()\n",
    "important_words = [sorted(features, key = lambda x: components[j][np.where(features == x )], reverse = True)[:5] for j in range(len(components))]\n",
    "print(important_words)"
   ]
  },
  {
   "cell_type": "code",
   "execution_count": null,
   "metadata": {},
   "outputs": [],
   "source": [
    "df.shape"
   ]
  },
  {
   "cell_type": "code",
   "execution_count": 29,
   "metadata": {},
   "outputs": [],
   "source": [
    "import pyLDAvis"
   ]
  },
  {
   "cell_type": "code",
   "execution_count": null,
   "metadata": {},
   "outputs": [],
   "source": [
    "df.reviews.unique().shape"
   ]
  },
  {
   "cell_type": "code",
   "execution_count": null,
   "metadata": {},
   "outputs": [],
   "source": [
    "df.to_csv(\"data/BA_reviews.csv\")"
   ]
  },
  {
   "cell_type": "markdown",
   "metadata": {},
   "source": [
    "Congratulations! Now you have your dataset for this task! The loops above collected 1000 reviews by iterating through the paginated pages on the website. However, if you want to collect more data, try increasing the number of pages!\n",
    "\n",
    " The next thing that you should do is clean this data to remove any unnecessary text from each of the rows. For example, \"✅ Trip Verified\" can be removed from each row if it exists, as it's not relevant to what we want to investigate."
   ]
  },
  {
   "cell_type": "code",
   "execution_count": null,
   "metadata": {},
   "outputs": [],
   "source": []
  },
  {
   "cell_type": "code",
   "execution_count": null,
   "metadata": {},
   "outputs": [],
   "source": []
  }
 ],
 "metadata": {
  "kernelspec": {
   "display_name": "Python 3 (ipykernel)",
   "language": "python",
   "name": "python3"
  },
  "language_info": {
   "codemirror_mode": {
    "name": "ipython",
    "version": 3
   },
   "file_extension": ".py",
   "mimetype": "text/x-python",
   "name": "python",
   "nbconvert_exporter": "python",
   "pygments_lexer": "ipython3",
   "version": "3.9.13"
  },
  "vscode": {
   "interpreter": {
    "hash": "4f7924c4c56b083e0e50eadfe7ef592a7a8ef70df33a0047f82280e6be1afe15"
   }
  }
 },
 "nbformat": 4,
 "nbformat_minor": 2
}
